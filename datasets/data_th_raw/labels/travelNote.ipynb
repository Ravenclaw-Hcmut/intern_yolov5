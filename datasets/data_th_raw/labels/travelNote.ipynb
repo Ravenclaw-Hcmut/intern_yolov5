{
 "cells": [
  {
   "cell_type": "code",
   "execution_count": 61,
   "metadata": {},
   "outputs": [],
   "source": [
    "from re import sub\n",
    "from sklearn.cluster import KMeans\n",
    "import numpy as np\n",
    "import cv2\n",
    "\n",
    "def ex_array(filename):\n",
    "    \"\"\"_summary_\n",
    "    Args:\n",
    "        filename (string): name of file\n",
    "    Returns:\n",
    "        list: [[w,h], ...]\n",
    "    \"\"\"\n",
    "    f = open(filename)\n",
    "    lines = f.readlines()\n",
    "    res = []\n",
    "    for x in range(len(lines)):\n",
    "        lines[x] = lines[x][:-1]\n",
    "        subarray = lines[x].split()\n",
    "        subarray = subarray[3:5]\n",
    "        subarray = [float(subarray[i]) for i in range(len(subarray))]\n",
    "        res += [subarray]\n",
    "    return res\n",
    "\n",
    "def get_sizeimage(filename):\n",
    "    im = cv2.imread('../images/THM_001.jpg')\n",
    "    # return list(im.shape[0:2])\n",
    "    return [im.shape[1], im.shape[0]]\n",
    "    \n",
    "\n"
   ]
  },
  {
   "cell_type": "code",
   "execution_count": 62,
   "metadata": {},
   "outputs": [
    {
     "name": "stdout",
     "output_type": "stream",
     "text": [
      "labels:\n",
      "6728\n",
      "[[ 24.07712942  74.59362166]\n",
      " [ 32.74558961 107.46725849]\n",
      " [ 16.77722149  52.03021331]]\n"
     ]
    }
   ],
   "source": [
    "# def main():\n",
    "wh_array = []\n",
    "\n",
    "for i in range(1, 302):        \n",
    "    zero_filled_number = str(i).zfill(3)\n",
    "    file = 'THM_' + zero_filled_number + '.txt'\n",
    "    tmp_size = get_sizeimage(file)\n",
    "    \n",
    "    tmp_array = ex_array(file)\n",
    "    \n",
    "    # print(tmp_size)\n",
    "    # print(tmp_array)\n",
    "    \n",
    "    for i in range(len(tmp_array)):\n",
    "        tmp_array[i] = list(map(lambda a, b: a*b, tmp_array[i], tmp_size))\n",
    "    \n",
    "    # print(wh_array)\n",
    "    # print(tmp_array)\n",
    "    wh_array += tmp_array\n",
    "\n",
    "# print(wh_array)\n",
    "\n",
    "# print(len(wh_array))\n",
    "##############################################################################################\n",
    "X = np.array(wh_array)\n",
    "kmeans = KMeans(n_clusters=3, random_state=0).fit(X)\n",
    "print('labels:')\n",
    "print(len(kmeans.labels_))\n",
    "\n",
    "print(kmeans.cluster_centers_)\n",
    "\n",
    "# if __name__ == \"__main__\":\n",
    "#     main()"
   ]
  },
  {
   "cell_type": "code",
   "execution_count": 63,
   "metadata": {},
   "outputs": [
    {
     "name": "stderr",
     "output_type": "stream",
     "text": [
      "WARNING:root:Watch out!\n"
     ]
    }
   ],
   "source": [
    "# import logging\n",
    "# logging.warning('Watch out!')\n",
    "\n"
   ]
  }
 ],
 "metadata": {
  "kernelspec": {
   "display_name": "Python 3.9.0 64-bit",
   "language": "python",
   "name": "python3"
  },
  "language_info": {
   "codemirror_mode": {
    "name": "ipython",
    "version": 3
   },
   "file_extension": ".py",
   "mimetype": "text/x-python",
   "name": "python",
   "nbconvert_exporter": "python",
   "pygments_lexer": "ipython3",
   "version": "3.9.0"
  },
  "orig_nbformat": 4,
  "vscode": {
   "interpreter": {
    "hash": "0dadf05b308bf8a20873442153b2d2ca183c7b9a85bff7e220e41f2952f1d076"
   }
  }
 },
 "nbformat": 4,
 "nbformat_minor": 2
}
