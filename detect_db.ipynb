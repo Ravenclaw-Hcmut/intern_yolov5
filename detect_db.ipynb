{
 "cells": [
  {
   "cell_type": "markdown",
   "metadata": {},
   "source": [
    "#### Init database"
   ]
  },
  {
   "cell_type": "code",
   "execution_count": 1,
   "metadata": {},
   "outputs": [],
   "source": [
    "from __future__ import print_function\n",
    "\n",
    "import mysql.connector\n",
    "from mysql.connector import errorcode\n",
    "from datetime import datedatetime, timedelta\n",
    "\n",
    "import datetime\n",
    "\n",
    "DB_NAME = 'yolov5'\n",
    "\n",
    "TABLES = {}\n",
    "# id  image_folder_path    image_name  detect_folder  detect_image  detect_detail predict_json  predict_date\n",
    "\n",
    "TABLES['Image'] = (\n",
    "    \"CREATE TABLE `Image` (\"\n",
    "    \"  `name`         varchar(255) NOT NULL,\"\n",
    "    \"  `folder_path`  varchar(255) NOT NULL,\"\n",
    "    \"   PRIMARY KEY(name, folder_path)\"\n",
    "    \") ENGINE=InnoDB\"\n",
    ")\n",
    "\n",
    "TABLES['Predict_result'] = (\n",
    "    \"CREATE TABLE `Predict_result` (\"\n",
    "    \"  `id` int NOT NULL AUTO_INCREMENT,\"\n",
    "    \"  `image_name`   varchar(255) NOT NULL,\"\n",
    "    \"  `image_folder` varchar(255) NOT NULL,\"\n",
    "    \"  `predict_folder` varchar(255) NOT NULL,\"\n",
    "    \"  `predict_image` varchar(255) NOT NULL,\"\n",
    "    \"  `predict_json_file` varchar(255) NOT NULL,\"\n",
    "    \"  `predict_json_str` JSON NOT NULL,\"\n",
    "    \"  `time` DATETIME NOT NULL,\"\n",
    "    # \"  `predict_date` date NOT NULL,\"\n",
    "    \"  PRIMARY KEY (`id`),\"\n",
    "    # \"   FOREIGN KEY (image_name)    REFERENCES Image(name),\"\n",
    "    \"   FOREIGN KEY (image_name, image_folder)  REFERENCES Image(name,folder_path)\"\n",
    "    \") ENGINE=InnoDB\")\n",
    "\n",
    "cnx = mysql.connector.connect(\n",
    "  host=\"localhost\",\n",
    "  user=\"root\",\n",
    "  password=\"luan\"\n",
    ")\n",
    "\n",
    "cursor = cnx.cursor()"
   ]
  },
  {
   "cell_type": "code",
   "execution_count": 2,
   "metadata": {},
   "outputs": [
    {
     "name": "stdout",
     "output_type": "stream",
     "text": [
      "use successfull\n"
     ]
    }
   ],
   "source": [
    "def create_database(cursor):\n",
    "    try:\n",
    "        cursor.execute(\n",
    "            \"CREATE DATABASE {} DEFAULT CHARACTER SET 'utf8'\".format(DB_NAME))\n",
    "    except mysql.connector.Error as err:\n",
    "        print(\"Failed creating database: {}\".format(err))\n",
    "        exit(1)\n",
    "\n",
    "try:\n",
    "    cursor.execute(\"USE {}\".format(DB_NAME))\n",
    "except mysql.connector.Error as err:\n",
    "    print(\"Database {} does not exists.\".format(DB_NAME))\n",
    "    if err.errno == errorcode.ER_BAD_DB_ERROR:\n",
    "        create_database(cursor)\n",
    "        print(\"Database {} created successfully.\".format(DB_NAME))\n",
    "        cnx.database = DB_NAME\n",
    "    else:\n",
    "        print(err)\n",
    "        exit(1)\n",
    "else:\n",
    "    print('use successfull')"
   ]
  },
  {
   "cell_type": "code",
   "execution_count": 3,
   "metadata": {},
   "outputs": [
    {
     "name": "stdout",
     "output_type": "stream",
     "text": [
      "Creating table Image: OK\n",
      "Creating table Predict_result: OK\n"
     ]
    }
   ],
   "source": [
    "for table_name in TABLES:\n",
    "    table_description = TABLES[table_name]\n",
    "    try:\n",
    "        print(\"Creating table {}: \".format(table_name), end='')\n",
    "        cursor.execute(table_description)\n",
    "    except mysql.connector.Error as err:\n",
    "        if err.errno == errorcode.ER_TABLE_EXISTS_ERROR:\n",
    "            print(\"already exists.\")\n",
    "        else:\n",
    "            print(err.msg)\n",
    "    else:\n",
    "        print(\"OK\")\n"
   ]
  },
  {
   "cell_type": "code",
   "execution_count": 4,
   "metadata": {},
   "outputs": [
    {
     "data": {
      "text/plain": [
       "True"
      ]
     },
     "execution_count": 4,
     "metadata": {},
     "output_type": "execute_result"
    }
   ],
   "source": [
    "cursor.close()"
   ]
  },
  {
   "cell_type": "markdown",
   "metadata": {},
   "source": [
    "#### Detect"
   ]
  },
  {
   "cell_type": "code",
   "execution_count": 21,
   "metadata": {},
   "outputs": [],
   "source": [
    "# from __future__ import print_function\n",
    "\n",
    "# import mysql.connector\n",
    "# from mysql.connector import errorcode\n",
    "# from datetime import date, datetime, timedelta\n",
    "# import datetime\n",
    "\n",
    "# import torch\n",
    "# import json\n",
    "\n",
    "# cnx = mysql.connector.connect(\n",
    "#   host=\"localhost\",\n",
    "#   user=\"root\",\n",
    "#   password=\"luan\",\n",
    "#   database='yolov5'\n",
    "# )\n",
    "\n",
    "# cursor = cnx.cursor()\n",
    "\n",
    "# add_output_th = (\"INSERT INTO output_th \"\n",
    "#                \"(folder_path, image_name, predict_json, predict_date) \"\n",
    "#                \"VALUES (%(image_folder_path)s, %(image_name)s, %(predict_folder_path)s, %(predict_json)s, %(predict_date)s)\")\n",
    "\n"
   ]
  },
  {
   "cell_type": "code",
   "execution_count": 1,
   "metadata": {},
   "outputs": [],
   "source": [
    "from __future__ import print_function\n",
    "\n",
    "import mysql.connector\n",
    "from mysql.connector import errorcode\n",
    "from datetime import date, datetime, timedelta\n",
    "# import datetime\n",
    "\n",
    "from pathlib import Path\n",
    "import torch\n",
    "import json\n",
    "\n",
    "cnx = mysql.connector.connect(\n",
    "  host=\"localhost\",\n",
    "  user=\"root\",\n",
    "  password=\"luan\",\n",
    "  database='yolov5'\n",
    ")\n",
    "\n",
    "cursor = cnx.cursor()\n",
    "\n",
    "# add_output_th = (\"INSERT INTO output_th \"\n",
    "#                \"(folder_path, image_name, predict_json, predict_date) \"\n",
    "#                \"VALUES (%(image_folder_path)s, %(image_name)s, %(predict_folder_path)s, %(predict_json)s, %(predict_date)s)\")\n",
    "\n",
    "image_folder_path = 'datasets/data_th/images/val/'\n",
    "image_name = 'THM_254.jpg'\n",
    "\n",
    "predict_folder = 'predict/'\n",
    "path_weights = 'yolov5/runs/train/exp9/weights/best.pt'\n"
   ]
  },
  {
   "cell_type": "code",
   "execution_count": 31,
   "metadata": {},
   "outputs": [
    {
     "name": "stderr",
     "output_type": "stream",
     "text": [
      "Using cache found in C:\\Users\\OS/.cache\\torch\\hub\\ultralytics_yolov5_master\n",
      "YOLOv5  2022-6-24 Python-3.9.0 torch-1.11.0+cu113 CUDA:0 (NVIDIA GeForce MX130, 2048MiB)\n",
      "\n",
      "YOLOv5  2022-6-24 Python-3.9.0 torch-1.11.0+cu113 CUDA:0 (NVIDIA GeForce MX130, 2048MiB)\n",
      "\n",
      "Fusing layers... \n",
      "Fusing layers... \n",
      "Model summary: 213 layers, 7020913 parameters, 0 gradients\n",
      "Model summary: 213 layers, 7020913 parameters, 0 gradients\n",
      "Adding AutoShape... \n",
      "Adding AutoShape... \n"
     ]
    },
    {
     "name": "stdout",
     "output_type": "stream",
     "text": [
      "0\n",
      "Saved 1 image to \u001b[1mpredict\u001b[0m\n"
     ]
    }
   ],
   "source": [
    "\n",
    "\n",
    "\n",
    "def detect_db(_img_name, _cursor:mysql.connector.cursor_cext.CMySQLCursor, _cnx: mysql.connector.connection_cext.CMySQLConnection, _folder = 'datasets/data_th/images/val/', _out_folder = 'predict/', _path_weights = 'yolov5/runs/train/exp9/weights/best.pt'):\n",
    "    model = torch.hub.load('ultralytics/yolov5', 'custom', _path_weights)  # or yolov5m, yolov5l, yolov5x, etc.\n",
    "    results = model(_folder + _img_name)\n",
    "    # results.print()  # or .show(), .save(), .crop(), .pandas(), etc.\n",
    "    now = datetime.now()\n",
    "    formatted_date = now.strftime('%y%m%d_%Hh%Mm%Ss')\n",
    "    formatted_date_db = now.strftime('%Y-%m-%d %H:%M:%S')\n",
    "    predict_json_file = ''.join(map(str,image_name.split('.')[:-1])) + '-' + formatted_date + '.json'\n",
    "\n",
    "    image_predict = results.pandas().xyxy[0]\n",
    "    image_predict.to_json(_out_folder + predict_json_file, orient=\"records\", indent=4)\n",
    "    predict_json_str = image_predict.to_json(orient=\"records\")\n",
    "    \n",
    "    predict_image = 'out_' + ''.join(map(str,image_name.split('.')[:-1])) + '-' + formatted_date + '.jpg'\n",
    "    ################################################################################################\n",
    "    pprint=False\n",
    "    show=False\n",
    "    save=True\n",
    "    render=False\n",
    "    labels=True\n",
    "    # save_dir= Path('')\n",
    "    save_dir= Path(_out_folder)\n",
    "    # print('dir: ',save_dir)\n",
    "\n",
    "    results.files = [predict_image]\n",
    "\n",
    "    crops = []\n",
    "    for i, (im, pred) in enumerate(zip(results.imgs, results.pred)):\n",
    "        print(i)\n",
    "        \n",
    "        s = f'image {i + 1}/{len(results.pred)}: {im.shape[0]}x{im.shape[1]} '  # string\n",
    "        if pred.shape[0]:\n",
    "            for c in pred[:, -1].unique():\n",
    "                n = (pred[:, -1] == c).sum()  # detections per class\n",
    "                s += f\"{n} {results.names[int(c)]}{'s' * (n > 1)}, \"  # add to string\n",
    "            if show or save or render:\n",
    "                annotator = Annotator(im, example=str(results.names))\n",
    "                for *box, conf, cls in reversed(pred):  # xyxy, confidence, class\n",
    "                    label = f'{results.names[int(cls)]} {conf:.2f}'\n",
    "                    annotator.box_label(box, label if labels else '', color=colors(cls))\n",
    "                im = annotator.im\n",
    "        else:\n",
    "            s += '(no detections)'\n",
    "\n",
    "        im = Image.fromarray(im.astype(np.uint8)) if isinstance(im, np.ndarray) else im  # from np\n",
    "        if pprint:\n",
    "            print(s.rstrip(', '))\n",
    "        if show:\n",
    "            im.show(results.files[i])  # show\n",
    "        if save:\n",
    "            f = results.files[i]\n",
    "            im.save(save_dir / f)  # save\n",
    "            if i == results.n - 1:\n",
    "                print(f\"Saved {results.n} image{'s' * (results.n > 1)} to {colorstr('bold', save_dir)}\")\n",
    "        if render:\n",
    "            results.imgs[i] = np.asarray(im)\n",
    "    ################################################################################################\n",
    "    \n",
    "    \n",
    "\n",
    "\n",
    "    #   Insert to database\n",
    "    #       Check is contain image\n",
    "    query_name_img = \"select * from Image where name = %s and folder_path = %s\"\n",
    "    _cursor.execute(query_name_img, (_img_name,_folder,))\n",
    "    record = _cursor.fetchall()\n",
    "    \n",
    "    if record == []:\n",
    "        cmd_insert_img = (\"INSERT INTO yolov5.Image(name, folder_path) \"\n",
    "        # \"VALUES({}, {})\").format('12', '123123')\n",
    "        \"VALUES(\\'{}\\', \\'{}\\')\").format(str(_img_name), str(_folder))\n",
    "        \n",
    "        # cmd_insert_img = \"INSERT INTO yolov5.Image(name, folder_path) VALUES('15555555552', '132323')\"\n",
    "        # print('line 29: ', cmd_insert_img)\n",
    "        \n",
    "        _cursor.execute(cmd_insert_img)\n",
    "        _cnx.commit()\n",
    "    \n",
    "    cmd_insert_predict = (\"INSERT INTO Predict_result \"\n",
    "               \"(image_name, image_folder, predict_folder, predict_image, predict_json_file, predict_json_str, time)\"\n",
    "               \"VALUES (%s, %s, %s, %s, %s, %s, %s)\")\n",
    "    tmp_data = (_img_name, _folder, _out_folder, predict_image, predict_json_file, predict_json_str, formatted_date_db)\n",
    "    _cursor.execute(cmd_insert_predict, tmp_data)\n",
    "    _cnx.commit()\n",
    "    \n",
    "    #       Insert predict output to database\n",
    "detect_db(image_name, cursor, cnx)"
   ]
  },
  {
   "cell_type": "code",
   "execution_count": null,
   "metadata": {},
   "outputs": [],
   "source": [
    "add_output_th = (\"INSERT INTO output_th \"\n",
    "               \"(image_folder_path, image_name, predict_folder_path, predict_json, predict_date)\"\n",
    "               \"VALUES (%s, %s, %s, %s, %s)\")\n",
    "\n",
    "\n",
    "data_predict = (image_folder_path, image_name, predict_folder_path, tj, date_now,)\n",
    "\n",
    "cursor.execute(add_output_th, data_predict)\n",
    "\n",
    "cnx.commit()\n",
    "\n"
   ]
  },
  {
   "cell_type": "code",
   "execution_count": 12,
   "metadata": {},
   "outputs": [
    {
     "data": {
      "text/plain": [
       "'2022-07-27 21:08:47'"
      ]
     },
     "execution_count": 12,
     "metadata": {},
     "output_type": "execute_result"
    }
   ],
   "source": [
    "from datetime import datetime\n",
    "now = datetime.now()\n",
    "formatted_date = now.strftime('%Y-%m-%d %H:%M:%S')\n",
    "\n",
    "formatted_date"
   ]
  },
  {
   "cell_type": "markdown",
   "metadata": {},
   "source": [
    "#### Test"
   ]
  },
  {
   "cell_type": "code",
   "execution_count": 10,
   "metadata": {},
   "outputs": [
    {
     "name": "stdout",
     "output_type": "stream",
     "text": [
      "[(1, 'datasets/data_th/images/val/', 'THM_254.jpg', 'predict/', 'THM_25417h11.json', datetime.date(2022, 7, 26)), (2, 'datasets/data_th/images/val/', 'THM_254.jpg', 'predict/', 'THM_25417h22.json', datetime.date(2022, 7, 26))]\n",
      "(1, 'datasets/data_th/images/val/', 'THM_254.jpg', 'predict/', 'THM_25417h11.json', datetime.date(2022, 7, 26))\n",
      "(2, 'datasets/data_th/images/val/', 'THM_254.jpg', 'predict/', 'THM_25417h22.json', datetime.date(2022, 7, 26))\n"
     ]
    }
   ],
   "source": [
    "import mysql.connector\n",
    "\n",
    "cnx = mysql.connector.connect(\n",
    "  host=\"localhost\",\n",
    "  user=\"root\",\n",
    "  password=\"luan\",\n",
    "  database='yolov5'\n",
    ")\n",
    "\n",
    "cursor = cnx.cursor()\n",
    "\n",
    "sql_select_Query = \"select * from output_th\"\n",
    "\n",
    "cursor.execute(sql_select_Query)\n",
    "# get all records\n",
    "records = cursor.fetchall()\n",
    "\n",
    "print (records)\n",
    "\n",
    "for rows in records:\n",
    "    print(rows)"
   ]
  },
  {
   "cell_type": "code",
   "execution_count": 14,
   "metadata": {},
   "outputs": [],
   "source": [
    "record2 = cursor.fetchall()"
   ]
  },
  {
   "cell_type": "code",
   "execution_count": 20,
   "metadata": {},
   "outputs": [
    {
     "data": {
      "text/plain": [
       "'2022-07-28 01:16:31'"
      ]
     },
     "execution_count": 20,
     "metadata": {},
     "output_type": "execute_result"
    }
   ],
   "source": [
    "from datetime import datetime\n",
    "now = datetime.now()\n",
    "formatted_date = now.strftime('%Y-%m-%d %H:%M:%S')\n",
    "\n",
    "\n",
    "formatted_date"
   ]
  },
  {
   "cell_type": "code",
   "execution_count": null,
   "metadata": {},
   "outputs": [
    {
     "data": {
      "text/plain": [
       "'INSERT INTO Predict_result (image_name, image_folder, predict_folder, predict_image, predict_json_file, predict_json_str, time) VALUES rewr-12'"
      ]
     },
     "execution_count": 11,
     "metadata": {},
     "output_type": "execute_result"
    }
   ],
   "source": [
    "(\"INSERT INTO Predict_result \"\n",
    "\"(image_name, image_folder, predict_folder, predict_image, predict_json_file, predict_json_str, time)\"\n",
    "\" VALUES {}-{}\").format('rewr',12)"
   ]
  },
  {
   "cell_type": "code",
   "execution_count": 29,
   "metadata": {},
   "outputs": [
    {
     "name": "stderr",
     "output_type": "stream",
     "text": [
      "Using cache found in C:\\Users\\OS/.cache\\torch\\hub\\ultralytics_yolov5_master\n",
      "YOLOv5  2022-6-24 Python-3.9.0 torch-1.11.0+cu113 CUDA:0 (NVIDIA GeForce MX130, 2048MiB)\n",
      "\n",
      "YOLOv5  2022-6-24 Python-3.9.0 torch-1.11.0+cu113 CUDA:0 (NVIDIA GeForce MX130, 2048MiB)\n",
      "\n",
      "Fusing layers... \n",
      "Fusing layers... \n",
      "YOLOv5s summary: 213 layers, 7225885 parameters, 0 gradients\n",
      "YOLOv5s summary: 213 layers, 7225885 parameters, 0 gradients\n",
      "Adding AutoShape... \n",
      "Adding AutoShape... \n"
     ]
    },
    {
     "name": "stdout",
     "output_type": "stream",
     "text": [
      "<class 'models.common.AutoShape'>\n",
      "['phamthuha2.jpg']\n",
      "0\n",
      "Saved 1 image to \u001b[1mpredict\u001b[0m\n",
      "0 enddddd\n"
     ]
    },
    {
     "data": {
      "text/html": [
       "<div>\n",
       "<style scoped>\n",
       "    .dataframe tbody tr th:only-of-type {\n",
       "        vertical-align: middle;\n",
       "    }\n",
       "\n",
       "    .dataframe tbody tr th {\n",
       "        vertical-align: top;\n",
       "    }\n",
       "\n",
       "    .dataframe thead th {\n",
       "        text-align: right;\n",
       "    }\n",
       "</style>\n",
       "<table border=\"1\" class=\"dataframe\">\n",
       "  <thead>\n",
       "    <tr style=\"text-align: right;\">\n",
       "      <th></th>\n",
       "      <th>xmin</th>\n",
       "      <th>ymin</th>\n",
       "      <th>xmax</th>\n",
       "      <th>ymax</th>\n",
       "      <th>confidence</th>\n",
       "      <th>class</th>\n",
       "      <th>name</th>\n",
       "    </tr>\n",
       "  </thead>\n",
       "  <tbody>\n",
       "    <tr>\n",
       "      <th>0</th>\n",
       "      <td>743.290527</td>\n",
       "      <td>48.343781</td>\n",
       "      <td>1141.756470</td>\n",
       "      <td>720.000000</td>\n",
       "      <td>0.879860</td>\n",
       "      <td>0</td>\n",
       "      <td>person</td>\n",
       "    </tr>\n",
       "    <tr>\n",
       "      <th>1</th>\n",
       "      <td>441.989594</td>\n",
       "      <td>437.336670</td>\n",
       "      <td>496.585114</td>\n",
       "      <td>710.036255</td>\n",
       "      <td>0.675119</td>\n",
       "      <td>27</td>\n",
       "      <td>tie</td>\n",
       "    </tr>\n",
       "    <tr>\n",
       "      <th>2</th>\n",
       "      <td>123.051056</td>\n",
       "      <td>193.238037</td>\n",
       "      <td>714.690674</td>\n",
       "      <td>719.771301</td>\n",
       "      <td>0.666694</td>\n",
       "      <td>0</td>\n",
       "      <td>person</td>\n",
       "    </tr>\n",
       "    <tr>\n",
       "      <th>3</th>\n",
       "      <td>978.989807</td>\n",
       "      <td>313.579468</td>\n",
       "      <td>1025.302856</td>\n",
       "      <td>415.526184</td>\n",
       "      <td>0.261517</td>\n",
       "      <td>27</td>\n",
       "      <td>tie</td>\n",
       "    </tr>\n",
       "  </tbody>\n",
       "</table>\n",
       "</div>"
      ],
      "text/plain": [
       "         xmin        ymin         xmax        ymax  confidence  class    name\n",
       "0  743.290527   48.343781  1141.756470  720.000000    0.879860      0  person\n",
       "1  441.989594  437.336670   496.585114  710.036255    0.675119     27     tie\n",
       "2  123.051056  193.238037   714.690674  719.771301    0.666694      0  person\n",
       "3  978.989807  313.579468  1025.302856  415.526184    0.261517     27     tie"
      ]
     },
     "execution_count": 29,
     "metadata": {},
     "output_type": "execute_result"
    }
   ],
   "source": [
    "from yolov5.utils.general import (LOGGER, check_requirements, check_suffix, check_version, colorstr, increment_path,\n",
    "                           make_divisible, non_max_suppression, scale_coords, xywh2xyxy, xyxy2xywh)\n",
    "\n",
    "from yolov5.utils.plots import Annotator, colors, save_one_box\n",
    "from PIL import Image\n",
    "import torch\n",
    "import numpy as np\n",
    "from pathlib import Path\n",
    "\n",
    "# Model\n",
    "model = torch.hub.load('ultralytics/yolov5', 'yolov5s')  # or yolov5m, yolov5l, yolov5x, etc.\n",
    "# model = torch.hub.load('ultralytics/yolov5', 'custom', 'path/to/best.pt')  # custom trained model\n",
    "\n",
    "print(type(model))\n",
    "\n",
    "# Images\n",
    "im = 'https://ultralytics.com/images/zidane.jpg'  # or file, Path, URL, PIL, OpenCV, numpy, list\n",
    "\n",
    "# Inference\n",
    "results = model(im)\n",
    "####################################################################################################\n",
    "\n",
    "\n",
    "####################################################################################################\n",
    "# Results\n",
    "# results.save('gg.jpg')  # or .show(), .save(), .crop(), .pandas(), etc.\n",
    "\n",
    "results.xyxy[0]  # im predictions (tensor)\n",
    "results.pandas().xyxy[0]  # im predictions (pandas)\n",
    "#      xmin    ymin    xmax   ymax  confidence  class    name\n",
    "# 0  749.50   43.50  1148.0  704.5    0.874023      0  person\n",
    "# 2  114.75  195.75  1095.0  708.0    0.624512      0  person\n",
    "# 3  986.00  304.00  1028.0  420.0    0.286865     27     tie"
   ]
  },
  {
   "cell_type": "code",
   "execution_count": 24,
   "metadata": {},
   "outputs": [
    {
     "data": {
      "text/html": [
       "<style  type=\"text/css\" >\n",
       "</style><table id=\"T_e7f14bd8_0efa_11ed_9d68_c46516e7d459\" ><thead>    <tr>        <th class=\"index_name level0\" >col name</th>        <th class=\"col_heading level0 col0\" >col1</th>        <th class=\"col_heading level0 col1\" >col2</th>        <th class=\"col_heading level0 col2\" >col3</th>        <th class=\"col_heading level0 col3\" >col4</th>        <th class=\"col_heading level0 col4\" >col5</th>        <th class=\"col_heading level0 col5\" >col6</th>    </tr>    <tr>        <th class=\"index_name level0\" >Actual Label:</th>        <th class=\"blank\" ></th>        <th class=\"blank\" ></th>        <th class=\"blank\" ></th>        <th class=\"blank\" ></th>        <th class=\"blank\" ></th>        <th class=\"blank\" ></th>    </tr></thead><tbody>\n",
       "                <tr>\n",
       "                        <th id=\"T_e7f14bd8_0efa_11ed_9d68_c46516e7d459level0_row0\" class=\"row_heading level0 row0\" >Tumour (Positive)</th>\n",
       "                        <td id=\"T_e7f14bd8_0efa_11ed_9d68_c46516e7d459row0_col0\" class=\"data row0 col0\" >38.000000</td>\n",
       "                        <td id=\"T_e7f14bd8_0efa_11ed_9d68_c46516e7d459row0_col1\" class=\"data row0 col1\" >2.000000</td>\n",
       "                        <td id=\"T_e7f14bd8_0efa_11ed_9d68_c46516e7d459row0_col2\" class=\"data row0 col2\" >18.000000</td>\n",
       "                        <td id=\"T_e7f14bd8_0efa_11ed_9d68_c46516e7d459row0_col3\" class=\"data row0 col3\" >22.000000</td>\n",
       "                        <td id=\"T_e7f14bd8_0efa_11ed_9d68_c46516e7d459row0_col4\" class=\"data row0 col4\" >21</td>\n",
       "                        <td id=\"T_e7f14bd8_0efa_11ed_9d68_c46516e7d459row0_col5\" class=\"data row0 col5\" >nan</td>\n",
       "            </tr>\n",
       "            <tr>\n",
       "                        <th id=\"T_e7f14bd8_0efa_11ed_9d68_c46516e7d459level0_row1\" class=\"row_heading level0 row1\" >Non-Tumour (Negative)</th>\n",
       "                        <td id=\"T_e7f14bd8_0efa_11ed_9d68_c46516e7d459row1_col0\" class=\"data row1 col0\" >19.000000</td>\n",
       "                        <td id=\"T_e7f14bd8_0efa_11ed_9d68_c46516e7d459row1_col1\" class=\"data row1 col1\" >439.000000</td>\n",
       "                        <td id=\"T_e7f14bd8_0efa_11ed_9d68_c46516e7d459row1_col2\" class=\"data row1 col2\" >6.000000</td>\n",
       "                        <td id=\"T_e7f14bd8_0efa_11ed_9d68_c46516e7d459row1_col3\" class=\"data row1 col3\" >452.000000</td>\n",
       "                        <td id=\"T_e7f14bd8_0efa_11ed_9d68_c46516e7d459row1_col4\" class=\"data row1 col4\" >226</td>\n",
       "                        <td id=\"T_e7f14bd8_0efa_11ed_9d68_c46516e7d459row1_col5\" class=\"data row1 col5\" >232.000000</td>\n",
       "            </tr>\n",
       "    </tbody></table>"
      ],
      "text/plain": [
       "<pandas.io.formats.style.Styler at 0x1bfd6dd3e50>"
      ]
     },
     "execution_count": 24,
     "metadata": {},
     "output_type": "execute_result"
    }
   ],
   "source": [
    "import pandas as pd\n",
    "import numpy as np\n",
    "import matplotlib as mpl\n",
    "\n",
    "# df = pd.DataFrame([[38.0, 2.0, 18.0, 22.0, 21, np.nan],[19, 439, 6, 452, 226,232]],\n",
    "#                   index=pd.Index(['Tumour (Positive)', 'Non-Tumour (Negative)'], name='Actual Label:'),\n",
    "#                   columns=pd.MultiIndex.from_product([['Decision Tree', 'Regression', 'Random'],['Tumour', 'Non-Tumour']], names=['Model:', 'Predicted:']))\n",
    "\n",
    "\n",
    "df = pd.DataFrame([[38.0, 2.0, 18.0, 22.0, 21, np.nan],[19, 439, 6, 452, 226,232]],\n",
    "                  index=pd.Index(['Tumour (Positive)', 'Non-Tumour (Negative)'], name='Actual Label:'),\n",
    "                  columns= pd.Index(['col1', 'col2', 'col3', 'col4', 'col5', 'col6'], name='col name'))\n",
    "\n",
    "\n",
    "\n",
    "df.style\n"
   ]
  },
  {
   "cell_type": "code",
   "execution_count": 25,
   "metadata": {},
   "outputs": [
    {
     "name": "stdout",
     "output_type": "stream",
     "text": [
      "[\n",
      "    {\n",
      "        \"col1\":38.0,\n",
      "        \"col2\":2.0,\n",
      "        \"col3\":18.0,\n",
      "        \"col4\":22.0,\n",
      "        \"col5\":21,\n",
      "        \"col6\":null\n",
      "    },\n",
      "    {\n",
      "        \"col1\":19.0,\n",
      "        \"col2\":439.0,\n",
      "        \"col3\":6.0,\n",
      "        \"col4\":452.0,\n",
      "        \"col5\":226,\n",
      "        \"col6\":232.0\n",
      "    }\n",
      "]\n"
     ]
    }
   ],
   "source": [
    "a = df.to_json(orient=\"records\", indent=4)\n",
    "\n",
    "print(a)\n",
    "\n",
    "\n",
    "\n",
    "a = df.to_json(orient=\"\", indent=4)\n",
    "print(a)"
   ]
  },
  {
   "cell_type": "code",
   "execution_count": 58,
   "metadata": {},
   "outputs": [
    {
     "name": "stdout",
     "output_type": "stream",
     "text": [
      "0\n",
      "[8. 8. 8. 8. 8.]\n",
      "1\n",
      "[0. 0. 0. 0. 0.]\n"
     ]
    }
   ],
   "source": [
    "import builtins\n",
    "\n",
    "import numpy as np\n",
    "\n",
    "a = np.zeros((2,5,))\n",
    "\n",
    "# a = a.tolist()\n",
    "type(a)\n",
    "\n",
    "\n",
    "a[0] = np.full((5, ), 8) \n",
    "\n",
    "for i, c in enumerate(a):\n",
    "    print(i)\n",
    "    print(c)\n",
    "    \n",
    "    \n",
    "b = [1,4,5,6]\n",
    "b = np"
   ]
  }
 ],
 "metadata": {
  "kernelspec": {
   "display_name": "Python 3.9.0 64-bit",
   "language": "python",
   "name": "python3"
  },
  "language_info": {
   "codemirror_mode": {
    "name": "ipython",
    "version": 3
   },
   "file_extension": ".py",
   "mimetype": "text/x-python",
   "name": "python",
   "nbconvert_exporter": "python",
   "pygments_lexer": "ipython3",
   "version": "3.9.0"
  },
  "orig_nbformat": 4,
  "vscode": {
   "interpreter": {
    "hash": "0dadf05b308bf8a20873442153b2d2ca183c7b9a85bff7e220e41f2952f1d076"
   }
  }
 },
 "nbformat": 4,
 "nbformat_minor": 2
}
